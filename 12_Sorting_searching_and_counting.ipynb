{
  "cells": [
    {
      "cell_type": "markdown",
      "metadata": {
        "id": "atEUluAFYgb6"
      },
      "source": [
        "# Soring, searching, and counting"
      ]
    },
    {
      "cell_type": "code",
      "execution_count": 1,
      "metadata": {
        "collapsed": true,
        "id": "5ObYdw-0Ygb7"
      },
      "outputs": [],
      "source": [
        "import numpy as np"
      ]
    },
    {
      "cell_type": "code",
      "execution_count": null,
      "metadata": {
        "id": "Pwys-QU9Ygb7",
        "outputId": "e2ac3fd5-9b5f-4d58-fe7b-2e089ccfddd0"
      },
      "outputs": [
        {
          "data": {
            "text/plain": [
              "'1.11.2'"
            ]
          },
          "execution_count": 2,
          "metadata": {},
          "output_type": "execute_result"
        }
      ],
      "source": [
        "np.__version__"
      ]
    },
    {
      "cell_type": "code",
      "execution_count": null,
      "metadata": {
        "collapsed": true,
        "id": "1yYBF_ljYgb8"
      },
      "outputs": [],
      "source": [
        "author = 'kyubyong. longinglove@nate.com'"
      ]
    },
    {
      "cell_type": "markdown",
      "metadata": {
        "id": "scUWrEkYYgb8"
      },
      "source": [
        "## Sorting"
      ]
    },
    {
      "cell_type": "markdown",
      "metadata": {
        "id": "9kSjSiDcYgb8"
      },
      "source": [
        "Q1. Sort x along the second axis."
      ]
    },
    {
      "cell_type": "code",
      "execution_count": 2,
      "metadata": {
        "colab": {
          "base_uri": "https://localhost:8080/"
        },
        "id": "rnsiPQw8Ygb8",
        "outputId": "d1eb3299-dcb5-4fc2-bc93-57cadd68efd0"
      },
      "outputs": [
        {
          "output_type": "stream",
          "name": "stdout",
          "text": [
            "[[1 4]\n",
            " [1 3]]\n"
          ]
        }
      ],
      "source": [
        "x = np.array([[1,4],[3,1]])\n",
        "x.sort()\n",
        "print(x)"
      ]
    },
    {
      "cell_type": "markdown",
      "metadata": {
        "id": "fStbdvWCYgb8"
      },
      "source": [
        "Q2. Sort pairs of surnames and first names and return their indices. (first by surname, then by name)."
      ]
    },
    {
      "cell_type": "code",
      "execution_count": 5,
      "metadata": {
        "colab": {
          "base_uri": "https://localhost:8080/"
        },
        "id": "og8srPUhYgb8",
        "outputId": "fa65ec65-5abc-4d86-feb6-d2cd62db4299"
      },
      "outputs": [
        {
          "output_type": "stream",
          "name": "stdout",
          "text": [
            "[1 2 0]\n"
          ]
        }
      ],
      "source": [
        "surnames =    ('Hertz',    'Galilei', 'Hertz')\n",
        "first_names = ('Heinrich', 'Galileo', 'Gustav')\n",
        "y =np.lexsort((surnames, first_names))\n",
        "print(y)"
      ]
    },
    {
      "cell_type": "markdown",
      "metadata": {
        "id": "Eqqs_kgwYgb9"
      },
      "source": [
        "Q3. Get the indices that would sort x along the second axis."
      ]
    },
    {
      "cell_type": "code",
      "execution_count": 6,
      "metadata": {
        "colab": {
          "base_uri": "https://localhost:8080/"
        },
        "id": "Cj-FKQu-Ygb9",
        "outputId": "b21c0dc9-4ec4-497d-f0d4-957d39dc2f19"
      },
      "outputs": [
        {
          "output_type": "stream",
          "name": "stdout",
          "text": [
            "[[0 1]\n",
            " [1 0]]\n"
          ]
        }
      ],
      "source": [
        "x = np.array([[1,4],[3,1]])\n",
        "y = np.argsort(x)\n",
        "print(y)"
      ]
    },
    {
      "cell_type": "markdown",
      "metadata": {
        "id": "S2wmsN3-Ygb9"
      },
      "source": [
        "Q4. Create an array such that its fifth element would be the same as the element of sorted x, and it divide other elements by their value."
      ]
    },
    {
      "cell_type": "code",
      "execution_count": 9,
      "metadata": {
        "colab": {
          "base_uri": "https://localhost:8080/"
        },
        "id": "fn-6UGxMYgb9",
        "outputId": "ba4940c9-bb50-457c-ea1a-1c0ec240a13d"
      },
      "outputs": [
        {
          "output_type": "stream",
          "name": "stdout",
          "text": [
            "x = [1 7 0 5 3 4 9 2 8 6]\n",
            "Check the fifth element of this new array is 5, the first four elements are all smaller than 5, and 6th through the end are bigger than 5\n"
          ]
        },
        {
          "output_type": "execute_result",
          "data": {
            "text/plain": [
              "array([2, 1, 0, 3, 4, 5, 6, 7, 8, 9])"
            ]
          },
          "metadata": {},
          "execution_count": 9
        }
      ],
      "source": [
        "x = np.random.permutation(10)\n",
        "print(\"x =\", x)\n",
        "print(\"Check the fifth element of this new array is 5, the first four elements are all smaller than 5, and 6th through the end are bigger than 5\")\n",
        "np.partition(x,5)\n"
      ]
    },
    {
      "cell_type": "markdown",
      "metadata": {
        "id": "j_d_rDjUYgb9"
      },
      "source": [
        "Q5. Create the indices of an array such that its third element would be the same as the element of sorted x, and it divide other elements by their value."
      ]
    },
    {
      "cell_type": "code",
      "execution_count": 15,
      "metadata": {
        "colab": {
          "base_uri": "https://localhost:8080/"
        },
        "id": "qUIlsIERYgb9",
        "outputId": "ad47cce8-d509-4896-f9ef-bcf86ff12962"
      },
      "outputs": [
        {
          "output_type": "stream",
          "name": "stdout",
          "text": [
            "x = [8 4 2 7 6 3 1 9 5 0]\n",
            "partitioned =  [0 1 2 3 4 5 6 9 7 8]\n",
            "indice =  [9 6 2 5 1 8 4 7 3 0]\n"
          ]
        }
      ],
      "source": [
        "x = np.random.permutation(10)\n",
        "print(\"x =\", x)\n",
        "print(\"partitioned = \", np.partition(x,3))\n",
        "print(\"indice = \", np.argpartition(x, 3))\n"
      ]
    },
    {
      "cell_type": "markdown",
      "metadata": {
        "id": "CWSHE7JSYgb9"
      },
      "source": [
        "## Searching"
      ]
    },
    {
      "cell_type": "markdown",
      "metadata": {
        "id": "HQx-AnLgYgb9"
      },
      "source": [
        "Q6. Get the maximum and minimum values and their indices of x along the second axis."
      ]
    },
    {
      "cell_type": "code",
      "execution_count": 19,
      "metadata": {
        "colab": {
          "base_uri": "https://localhost:8080/"
        },
        "id": "nNcswvyaYgb9",
        "outputId": "c3d93d72-fe60-43f0-ecce-d817eff9bad7"
      },
      "outputs": [
        {
          "output_type": "stream",
          "name": "stdout",
          "text": [
            "x = [[7 6 0 8 3]\n",
            " [4 2 5 1 9]]\n",
            "maximum values =  [8 9]\n",
            "max indices =  [3 4]\n",
            "minimum values =  [0 1]\n",
            "min indices =  [2 3]\n"
          ]
        }
      ],
      "source": [
        "x = np.random.permutation(10).reshape(2, 5)\n",
        "print(\"x =\", x)\n",
        "print(\"maximum values = \", np.max(x, 1))\n",
        "print(\"max indices = \", np.argmax(x, 1))\n",
        "print(\"minimum values = \", np.min(x, 1))\n",
        "print(\"min indices = \", np.argmin(x, 1))\n"
      ]
    },
    {
      "cell_type": "markdown",
      "metadata": {
        "id": "AvqxVfIpYgb9"
      },
      "source": [
        "Q7. Get the maximum and minimum values and their indices of x along the second axis, ignoring NaNs."
      ]
    },
    {
      "cell_type": "code",
      "execution_count": 21,
      "metadata": {
        "colab": {
          "base_uri": "https://localhost:8080/"
        },
        "id": "qBwNQDYDYgb9",
        "outputId": "51f5644f-b0ba-4aae-80ae-fded540e7108"
      },
      "outputs": [
        {
          "output_type": "stream",
          "name": "stdout",
          "text": [
            "maximum values ignoring NaNs =  [4. 3.]\n",
            "max indices =  [1 0]\n",
            "minimum values ignoring NaNs=  [4. 2.]\n",
            "min indices =  [1 1]\n"
          ]
        }
      ],
      "source": [
        "x = np.array([[np.nan, 4], [3, 2]])\n",
        "print(\"maximum values ignoring NaNs = \", np.nanmax(x, 1))\n",
        "print(\"max indices = \", np.nanargmax(x, 1))\n",
        "print(\"minimum values ignoring NaNs= \", np.nanmin(x, 1))\n",
        "print(\"min indices = \", np.nanargmin(x, 1))"
      ]
    },
    {
      "cell_type": "markdown",
      "metadata": {
        "id": "dubGJ5ItYgb-"
      },
      "source": [
        "Q8. Get the values and indices of the elements that are bigger than 2 in x.\n"
      ]
    },
    {
      "cell_type": "code",
      "execution_count": 23,
      "metadata": {
        "colab": {
          "base_uri": "https://localhost:8080/"
        },
        "id": "waXbi_3SYgb-",
        "outputId": "c553b022-df7a-44ff-9540-a05b408b2ac0"
      },
      "outputs": [
        {
          "output_type": "stream",
          "name": "stdout",
          "text": [
            "Values bigger than 2 =  [3 3 5]\n",
            "Their indices are  (array([0, 1, 1]), array([2, 1, 2]))\n"
          ]
        }
      ],
      "source": [
        "x = np.array([[1, 2, 3], [1, 3, 5]])\n",
        "print(\"Values bigger than 2 = \", x[x>2])\n",
        "print(\"Their indices are \", np.nonzero(x>2))"
      ]
    },
    {
      "cell_type": "markdown",
      "metadata": {
        "id": "i5xIW2tbYgb-"
      },
      "source": [
        "Q9. Get the indices of the elements that are bigger than 2 in the flattend x."
      ]
    },
    {
      "cell_type": "code",
      "execution_count": 25,
      "metadata": {
        "colab": {
          "base_uri": "https://localhost:8080/"
        },
        "id": "XEayl_v7Ygb-",
        "outputId": "8231a5e0-0494-486e-c6bc-a08c5fcaf1f5"
      },
      "outputs": [
        {
          "output_type": "stream",
          "name": "stdout",
          "text": [
            "[0 1 2 3 4 5]\n"
          ]
        }
      ],
      "source": [
        "x = np.array([[1, 2, 3], [1, 3, 5]])\n",
        "y = np.flatnonzero(x)\n",
        "print(y)"
      ]
    },
    {
      "cell_type": "markdown",
      "metadata": {
        "id": "sJuroH_iYgb-"
      },
      "source": [
        "Q10. Check the elements of x and return 0 if it is less than 0, otherwise the element itself."
      ]
    },
    {
      "cell_type": "code",
      "execution_count": 29,
      "metadata": {
        "colab": {
          "base_uri": "https://localhost:8080/"
        },
        "id": "3GlyT25fYgb-",
        "outputId": "6507bb80-9784-449f-dfbf-602fc3db2999"
      },
      "outputs": [
        {
          "output_type": "execute_result",
          "data": {
            "text/plain": [
              "array([[0, 0, 0],\n",
              "       [0, 0, 0],\n",
              "       [1, 2, 3]])"
            ]
          },
          "metadata": {},
          "execution_count": 29
        }
      ],
      "source": [
        "x = np.arange(-5, 4).reshape(3, 3)\n",
        "np.where(x > 0, x, 0)"
      ]
    },
    {
      "cell_type": "markdown",
      "metadata": {
        "id": "4BUiV15wYgb-"
      },
      "source": [
        "Q11. Get the indices where elements of y should be inserted to x to maintain order."
      ]
    },
    {
      "cell_type": "code",
      "execution_count": 30,
      "metadata": {
        "colab": {
          "base_uri": "https://localhost:8080/"
        },
        "id": "Tv7P2DKXYgb-",
        "outputId": "a512b2d9-4437-4532-a07f-8c45044ca9cf"
      },
      "outputs": [
        {
          "output_type": "execute_result",
          "data": {
            "text/plain": [
              "array([0, 2, 1, 3])"
            ]
          },
          "metadata": {},
          "execution_count": 30
        }
      ],
      "source": [
        "x = [1, 3, 5, 7, 9]\n",
        "y = [0, 4, 2, 6]\n",
        "np.searchsorted(x, y, side = 'left')"
      ]
    },
    {
      "cell_type": "markdown",
      "metadata": {
        "id": "Vr2RRAm7Ygb-"
      },
      "source": [
        "## Counting"
      ]
    },
    {
      "cell_type": "markdown",
      "metadata": {
        "id": "aluPEma_Ygb-"
      },
      "source": [
        "Q12. Get the number of nonzero elements in x."
      ]
    },
    {
      "cell_type": "code",
      "execution_count": 33,
      "metadata": {
        "colab": {
          "base_uri": "https://localhost:8080/"
        },
        "id": "6nbvmbu7Ygb-",
        "outputId": "beb3d1f8-2706-4018-aed1-7e8d6a56c100"
      },
      "outputs": [
        {
          "output_type": "execute_result",
          "data": {
            "text/plain": [
              "5"
            ]
          },
          "metadata": {},
          "execution_count": 33
        }
      ],
      "source": [
        "x = [[0,1,7,0,0],[3,0,0,2,19]]\n",
        "np.count_nonzero(x)"
      ]
    },
    {
      "cell_type": "code",
      "execution_count": null,
      "metadata": {
        "collapsed": true,
        "id": "ehw4OfAVYgb-"
      },
      "outputs": [],
      "source": []
    }
  ],
  "metadata": {
    "kernelspec": {
      "display_name": "Python 2",
      "language": "python",
      "name": "python2"
    },
    "language_info": {
      "codemirror_mode": {
        "name": "ipython",
        "version": 2
      },
      "file_extension": ".py",
      "mimetype": "text/x-python",
      "name": "python",
      "nbconvert_exporter": "python",
      "pygments_lexer": "ipython2",
      "version": "2.7.10"
    },
    "colab": {
      "provenance": []
    }
  },
  "nbformat": 4,
  "nbformat_minor": 0
}