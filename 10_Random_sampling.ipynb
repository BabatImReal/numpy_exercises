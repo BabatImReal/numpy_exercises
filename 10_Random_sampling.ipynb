{
  "cells": [
    {
      "cell_type": "markdown",
      "metadata": {
        "id": "SbqKVQAwJ_ej"
      },
      "source": [
        "# Random Sampling"
      ]
    },
    {
      "cell_type": "code",
      "execution_count": 1,
      "metadata": {
        "collapsed": true,
        "id": "veuJ36iiJ_ek"
      },
      "outputs": [],
      "source": [
        "import numpy as np"
      ]
    },
    {
      "cell_type": "code",
      "execution_count": 2,
      "metadata": {
        "colab": {
          "base_uri": "https://localhost:8080/",
          "height": 35
        },
        "id": "fPj0ntCWJ_el",
        "outputId": "c4240ab4-ba67-47f8-b52e-13a42e667a68"
      },
      "outputs": [
        {
          "output_type": "execute_result",
          "data": {
            "text/plain": [
              "'1.25.2'"
            ],
            "application/vnd.google.colaboratory.intrinsic+json": {
              "type": "string"
            }
          },
          "metadata": {},
          "execution_count": 2
        }
      ],
      "source": [
        "np.__version__"
      ]
    },
    {
      "cell_type": "code",
      "execution_count": 3,
      "metadata": {
        "id": "zUEivTCiJ_em"
      },
      "outputs": [],
      "source": [
        "__author__ = 'kyubyong. longinglove@nate.com'"
      ]
    },
    {
      "cell_type": "markdown",
      "metadata": {
        "id": "NC7DRo3WJ_em"
      },
      "source": [
        "## Simple random data"
      ]
    },
    {
      "cell_type": "markdown",
      "metadata": {
        "id": "xfLMxZ7iJ_en"
      },
      "source": [
        "Q1. Create an array of shape (3, 2) and populate it with random samples from a uniform distribution over [0, 1)."
      ]
    },
    {
      "cell_type": "code",
      "execution_count": 4,
      "metadata": {
        "colab": {
          "base_uri": "https://localhost:8080/"
        },
        "id": "gPGFDurQJ_en",
        "outputId": "6b98f246-a93f-4956-d5fb-70a2648e0688"
      },
      "outputs": [
        {
          "output_type": "stream",
          "name": "stdout",
          "text": [
            "[[0.13271125 0.63923646]\n",
            " [0.57491574 0.06046119]\n",
            " [0.65869013 0.05462769]]\n"
          ]
        }
      ],
      "source": [
        "rng = np.random.default_rng()\n",
        "arr2 = rng.random((3,2))\n",
        "print(arr2)"
      ]
    },
    {
      "cell_type": "markdown",
      "metadata": {
        "id": "VHqkp1B3J_en"
      },
      "source": [
        "Q2. Create an array of shape (1000, 1000) and populate it with random samples from a standard normal distribution. And verify that the mean and standard deviation is close enough to 0 and 1 repectively."
      ]
    },
    {
      "cell_type": "code",
      "execution_count": 6,
      "metadata": {
        "colab": {
          "base_uri": "https://localhost:8080/"
        },
        "id": "0lMzB--YJ_en",
        "outputId": "d9e6e2e8-2bc3-43a3-ffc4-b664896ec175"
      },
      "outputs": [
        {
          "output_type": "stream",
          "name": "stdout",
          "text": [
            "-0.00047624100362545255\n",
            "0.9991340627945353\n"
          ]
        }
      ],
      "source": [
        "x = np.random.randn(1000, 1000)\n",
        "out2 = np.random.standard_normal((1000, 1000))\n",
        "out3 = np.random.normal(loc=0.0, scale=1.0, size=(1000, 1000))\n",
        "print(np.mean(out3))\n",
        "print(np.std(out2))"
      ]
    },
    {
      "cell_type": "markdown",
      "metadata": {
        "id": "R9yg3eVqJ_en"
      },
      "source": [
        "Q3. Create an array of shape (3, 2) and populate it with random integers ranging from 0 to 3 (inclusive) from a discrete uniform distribution."
      ]
    },
    {
      "cell_type": "code",
      "execution_count": 7,
      "metadata": {
        "colab": {
          "base_uri": "https://localhost:8080/"
        },
        "id": "83STgdczJ_eo",
        "outputId": "c19cf2c7-bc95-4f35-fe9d-7261fd201822"
      },
      "outputs": [
        {
          "output_type": "execute_result",
          "data": {
            "text/plain": [
              "array([[3, 0],\n",
              "       [1, 0],\n",
              "       [0, 1]])"
            ]
          },
          "metadata": {},
          "execution_count": 7
        }
      ],
      "source": [
        "np.random.randint(0,4,(3,2))"
      ]
    },
    {
      "cell_type": "markdown",
      "metadata": {
        "id": "sCOfvYyxJ_eo"
      },
      "source": [
        "Q4. Extract 1 elements from x randomly such that each of them would be associated with probabilities .3, .5, .2. Then print the result 10 times."
      ]
    },
    {
      "cell_type": "code",
      "execution_count": 9,
      "metadata": {
        "colab": {
          "base_uri": "https://localhost:8080/"
        },
        "id": "Txwr2ynBJ_eo",
        "outputId": "5f46aad0-c9f6-4988-926a-313867e6bf96"
      },
      "outputs": [
        {
          "output_type": "stream",
          "name": "stdout",
          "text": [
            "b'5 out of 10'\n",
            "b'2 out of 10'\n",
            "b'5 out of 10'\n",
            "b'3 out of 10'\n",
            "b'3 out of 10'\n",
            "b'3 out of 10'\n",
            "b'5 out of 10'\n",
            "b'5 out of 10'\n",
            "b'5 out of 10'\n",
            "b'5 out of 10'\n"
          ]
        }
      ],
      "source": [
        "x = [b'3 out of 10', b'5 out of 10', b'2 out of 10']\n",
        "for _ in range(10):\n",
        "    print(np.random.choice(x, p=[.3, .5, .2]))"
      ]
    },
    {
      "cell_type": "markdown",
      "metadata": {
        "id": "lUqgXc1fJ_ep"
      },
      "source": [
        "Q5. Extract 3 different integers from 0 to 9 randomly with the same probabilities."
      ]
    },
    {
      "cell_type": "code",
      "execution_count": 10,
      "metadata": {
        "colab": {
          "base_uri": "https://localhost:8080/"
        },
        "id": "bV7xG97sJ_ep",
        "outputId": "6858b5d3-ed57-4c55-9718-a06363edac39"
      },
      "outputs": [
        {
          "output_type": "execute_result",
          "data": {
            "text/plain": [
              "array([3, 0, 5])"
            ]
          },
          "metadata": {},
          "execution_count": 10
        }
      ],
      "source": [
        "np.random.choice(10, 3, replace=False)"
      ]
    },
    {
      "cell_type": "markdown",
      "metadata": {
        "id": "fQZcCkYzJ_ep"
      },
      "source": [
        "## Permutations"
      ]
    },
    {
      "cell_type": "markdown",
      "metadata": {
        "id": "f3i1t0H1J_ep"
      },
      "source": [
        "Q6. Shuffle numbers between 0 and 9 (inclusive)."
      ]
    },
    {
      "cell_type": "code",
      "execution_count": 11,
      "metadata": {
        "colab": {
          "base_uri": "https://localhost:8080/"
        },
        "id": "U5ZIvP8kJ_ep",
        "outputId": "c0a2ebe2-9f3f-4e5f-aff6-e23e1e82efef"
      },
      "outputs": [
        {
          "output_type": "stream",
          "name": "stdout",
          "text": [
            "[8 0 1 9 7 2 6 3 5 4]\n"
          ]
        }
      ],
      "source": [
        "x = np.arange(10)\n",
        "np.random.shuffle(x)\n",
        "print(x)"
      ]
    },
    {
      "cell_type": "code",
      "execution_count": 12,
      "metadata": {
        "colab": {
          "base_uri": "https://localhost:8080/"
        },
        "id": "27x1RivMJ_ep",
        "outputId": "d7560171-8a74-44f8-f2c2-a647e8a508e5"
      },
      "outputs": [
        {
          "output_type": "stream",
          "name": "stdout",
          "text": [
            "[2 9 6 7 3 0 8 4 1 5]\n"
          ]
        }
      ],
      "source": [
        "# Or\n",
        "x = np.random.permutation(10)\n",
        "print(x)"
      ]
    },
    {
      "cell_type": "markdown",
      "metadata": {
        "id": "EmcxhyJEJ_eq"
      },
      "source": [
        "## Random generator"
      ]
    },
    {
      "cell_type": "markdown",
      "metadata": {
        "id": "K_7xomQPJ_eq"
      },
      "source": [
        "Q7. Assign number 10 to the seed of the random generator so that you can get the same value next time."
      ]
    },
    {
      "cell_type": "code",
      "execution_count": 13,
      "metadata": {
        "collapsed": true,
        "id": "hDPrIm9SJ_eq"
      },
      "outputs": [],
      "source": [
        "np.random.seed(10)"
      ]
    }
  ],
  "metadata": {
    "kernelspec": {
      "display_name": "Python 2",
      "language": "python",
      "name": "python2"
    },
    "language_info": {
      "codemirror_mode": {
        "name": "ipython",
        "version": 2
      },
      "file_extension": ".py",
      "mimetype": "text/x-python",
      "name": "python",
      "nbconvert_exporter": "python",
      "pygments_lexer": "ipython2",
      "version": "2.7.10"
    },
    "colab": {
      "provenance": []
    }
  },
  "nbformat": 4,
  "nbformat_minor": 0
}