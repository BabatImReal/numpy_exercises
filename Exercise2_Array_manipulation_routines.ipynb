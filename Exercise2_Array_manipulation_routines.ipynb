{
  "cells": [
    {
      "cell_type": "markdown",
      "metadata": {
        "id": "y0asE3V0Y7qJ"
      },
      "source": [
        "# Array manipulation routines"
      ]
    },
    {
      "cell_type": "code",
      "execution_count": 2,
      "metadata": {
        "collapsed": true,
        "id": "xZ2TbX-7Y7qK"
      },
      "outputs": [],
      "source": [
        "import numpy as np"
      ]
    },
    {
      "cell_type": "code",
      "execution_count": 3,
      "metadata": {
        "id": "125rEsXmY7qK",
        "outputId": "ab76bf1b-6412-4ab3-c3ec-1bccb3bb5abe",
        "colab": {
          "base_uri": "https://localhost:8080/",
          "height": 35
        }
      },
      "outputs": [
        {
          "output_type": "execute_result",
          "data": {
            "text/plain": [
              "'1.25.2'"
            ],
            "application/vnd.google.colaboratory.intrinsic+json": {
              "type": "string"
            }
          },
          "metadata": {},
          "execution_count": 3
        }
      ],
      "source": [
        "np.__version__"
      ]
    },
    {
      "cell_type": "markdown",
      "metadata": {
        "collapsed": true,
        "id": "9C2LSrTpY7qL"
      },
      "source": [
        "Q1. Let x be a ndarray [10, 10, 3] with all elements set to one. Reshape x so that the size of the second dimension equals 150."
      ]
    },
    {
      "cell_type": "code",
      "execution_count": 7,
      "metadata": {
        "id": "SEb9hckhY7qL",
        "outputId": "204fbc32-5f22-444c-fa57-29ad105130af",
        "colab": {
          "base_uri": "https://localhost:8080/"
        }
      },
      "outputs": [
        {
          "output_type": "stream",
          "name": "stdout",
          "text": [
            "[[1. 1. 1. 1. 1. 1. 1. 1. 1. 1. 1. 1. 1. 1. 1. 1. 1. 1. 1. 1. 1. 1. 1. 1.\n",
            "  1. 1. 1. 1. 1. 1. 1. 1. 1. 1. 1. 1. 1. 1. 1. 1. 1. 1. 1. 1. 1. 1. 1. 1.\n",
            "  1. 1. 1. 1. 1. 1. 1. 1. 1. 1. 1. 1. 1. 1. 1. 1. 1. 1. 1. 1. 1. 1. 1. 1.\n",
            "  1. 1. 1. 1. 1. 1. 1. 1. 1. 1. 1. 1. 1. 1. 1. 1. 1. 1. 1. 1. 1. 1. 1. 1.\n",
            "  1. 1. 1. 1. 1. 1. 1. 1. 1. 1. 1. 1. 1. 1. 1. 1. 1. 1. 1. 1. 1. 1. 1. 1.\n",
            "  1. 1. 1. 1. 1. 1. 1. 1. 1. 1. 1. 1. 1. 1. 1. 1. 1. 1. 1. 1. 1. 1. 1. 1.\n",
            "  1. 1. 1. 1. 1. 1.]\n",
            " [1. 1. 1. 1. 1. 1. 1. 1. 1. 1. 1. 1. 1. 1. 1. 1. 1. 1. 1. 1. 1. 1. 1. 1.\n",
            "  1. 1. 1. 1. 1. 1. 1. 1. 1. 1. 1. 1. 1. 1. 1. 1. 1. 1. 1. 1. 1. 1. 1. 1.\n",
            "  1. 1. 1. 1. 1. 1. 1. 1. 1. 1. 1. 1. 1. 1. 1. 1. 1. 1. 1. 1. 1. 1. 1. 1.\n",
            "  1. 1. 1. 1. 1. 1. 1. 1. 1. 1. 1. 1. 1. 1. 1. 1. 1. 1. 1. 1. 1. 1. 1. 1.\n",
            "  1. 1. 1. 1. 1. 1. 1. 1. 1. 1. 1. 1. 1. 1. 1. 1. 1. 1. 1. 1. 1. 1. 1. 1.\n",
            "  1. 1. 1. 1. 1. 1. 1. 1. 1. 1. 1. 1. 1. 1. 1. 1. 1. 1. 1. 1. 1. 1. 1. 1.\n",
            "  1. 1. 1. 1. 1. 1.]]\n"
          ]
        }
      ],
      "source": [
        "x = np.ones([10,10,3])\n",
        "out = np.reshape(x, [-1,150])\n",
        "print(out)"
      ]
    },
    {
      "cell_type": "markdown",
      "metadata": {
        "id": "FYR_HapZY7qL"
      },
      "source": [
        "Q2. Let x be array [[1, 2, 3], [4, 5, 6]]. Convert it to [1 4 2 5 3 6]."
      ]
    },
    {
      "cell_type": "code",
      "execution_count": 9,
      "metadata": {
        "id": "cEWqDyNQY7qM",
        "outputId": "0f8efc59-cfc4-4091-902a-a0ac7b38424a",
        "colab": {
          "base_uri": "https://localhost:8080/"
        }
      },
      "outputs": [
        {
          "output_type": "stream",
          "name": "stdout",
          "text": [
            "[1 4 2 5 3 6]\n"
          ]
        }
      ],
      "source": [
        "x = np.array([[1,2,3],[4,5,6]])\n",
        "y = x.flatten(\"F\")\n",
        "z = x.ravel(\"F\")\n",
        "assert np.allclose(y,z)\n",
        "print(y)"
      ]
    },
    {
      "cell_type": "markdown",
      "metadata": {
        "id": "jCuF2TtnY7qM"
      },
      "source": [
        "Q3. Let x be array [[1, 2, 3], [4, 5, 6]]. Get the 5th element."
      ]
    },
    {
      "cell_type": "code",
      "execution_count": 10,
      "metadata": {
        "id": "Wx8KHLf4Y7qM",
        "outputId": "203794d7-a112-4832-ce3c-8f08ef73f3ca",
        "colab": {
          "base_uri": "https://localhost:8080/"
        }
      },
      "outputs": [
        {
          "output_type": "execute_result",
          "data": {
            "text/plain": [
              "5"
            ]
          },
          "metadata": {},
          "execution_count": 10
        }
      ],
      "source": [
        "x = np.array([[1,2,3],[4,5,6]])\n",
        "y = x.flatten(\"C\")\n",
        "y[4]"
      ]
    },
    {
      "cell_type": "markdown",
      "metadata": {
        "id": "KZb_xRTOY7qM"
      },
      "source": [
        "Q4. Let x be an arbitrary 3-D array of shape (3, 4, 5). Permute the dimensions of x such that the new shape will be (4,3,5).\n"
      ]
    },
    {
      "cell_type": "code",
      "execution_count": 13,
      "metadata": {
        "id": "U0F8VEVsY7qM",
        "outputId": "e9430e1d-15e5-4fb6-b181-e510a30509d0",
        "colab": {
          "base_uri": "https://localhost:8080/"
        }
      },
      "outputs": [
        {
          "output_type": "stream",
          "name": "stdout",
          "text": [
            "(4, 3, 5)\n"
          ]
        }
      ],
      "source": [
        "x = np.zeros((3,4,5))\n",
        "y = np.swapaxes(x,1,0)\n",
        "z = x.transpose(1,0,2)\n",
        "assert y.shape ==  z.shape\n",
        "print(y.shape)"
      ]
    },
    {
      "cell_type": "markdown",
      "metadata": {
        "id": "Rtm4Z_BtY7qN"
      },
      "source": [
        "Q5. Let x be an arbitrary 2-D array of shape (3, 4). Permute the dimensions of x such that the new shape will be (4,3)."
      ]
    },
    {
      "cell_type": "code",
      "execution_count": 14,
      "metadata": {
        "id": "KcGUiVPJY7qN",
        "outputId": "a270357d-b610-456d-8f3a-10df13d7afee",
        "colab": {
          "base_uri": "https://localhost:8080/"
        }
      },
      "outputs": [
        {
          "output_type": "stream",
          "name": "stdout",
          "text": [
            "(4, 3)\n"
          ]
        }
      ],
      "source": [
        "x = np.zeros((3,4))\n",
        "y = np.swapaxes(x,1,0)\n",
        "print(y.shape)"
      ]
    },
    {
      "cell_type": "markdown",
      "metadata": {
        "id": "PYSoyAtGY7qN"
      },
      "source": [
        "Q5. Let x be an arbitrary 2-D array of shape (3, 4). Insert a nex axis such that the new shape will be (3, 1, 4)."
      ]
    },
    {
      "cell_type": "code",
      "execution_count": 16,
      "metadata": {
        "id": "XcprSKOOY7qN",
        "outputId": "97121119-4f86-4e12-f1ad-dfb8a6d6db77",
        "colab": {
          "base_uri": "https://localhost:8080/"
        }
      },
      "outputs": [
        {
          "output_type": "stream",
          "name": "stdout",
          "text": [
            "(3, 1, 4)\n"
          ]
        }
      ],
      "source": [
        "x = np.zeros((3,4))\n",
        "y = np.expand_dims(x, axis = 1)\n",
        "print(y.shape)"
      ]
    },
    {
      "cell_type": "markdown",
      "metadata": {
        "id": "rGzJkHveY7qN"
      },
      "source": [
        "Q6. Let x be an arbitrary 3-D array of shape (3, 4, 1). Remove a single-dimensional entries such that the new shape will be (3, 4)."
      ]
    },
    {
      "cell_type": "code",
      "execution_count": 17,
      "metadata": {
        "id": "wg5pP0OaY7qN",
        "outputId": "ff85016f-af1a-4b20-f205-075f0eef6d97",
        "colab": {
          "base_uri": "https://localhost:8080/"
        }
      },
      "outputs": [
        {
          "output_type": "execute_result",
          "data": {
            "text/plain": [
              "(3, 4)"
            ]
          },
          "metadata": {},
          "execution_count": 17
        }
      ],
      "source": [
        "x = np.zeros((3,4,1))\n",
        "np.squeeze(x, axis = 2).shape"
      ]
    },
    {
      "cell_type": "markdown",
      "metadata": {
        "id": "cbcahMs8Y7qO"
      },
      "source": [
        "Q7. Lex x be an array <br/>\n",
        "[[ 1 2 3]<br/>\n",
        "[ 4 5 6].<br/><br/>\n",
        "and y be an array <br/>\n",
        "[[ 7 8 9]<br/>\n",
        "[10 11 12]].<br/>\n",
        "Concatenate x and y so that a new array looks like <br/>[[1, 2, 3, 7, 8, 9], <br/>[4, 5, 6, 10, 11, 12]].\n"
      ]
    },
    {
      "cell_type": "code",
      "execution_count": 24,
      "metadata": {
        "id": "L4NQuVTrY7qO",
        "outputId": "94d3f651-e6bc-40f2-93ef-4cbdfe494ef8",
        "colab": {
          "base_uri": "https://localhost:8080/"
        }
      },
      "outputs": [
        {
          "output_type": "stream",
          "name": "stdout",
          "text": [
            "[[ 1  2  3  7  8  9]\n",
            " [ 4  5  6 10 11 12]]\n"
          ]
        }
      ],
      "source": [
        "x = np.array([[1, 2, 3], [4, 5, 6]])\n",
        "y = np.array([[7, 8, 9], [10, 11, 12]])\n",
        "z = np.concatenate((x,y), axis = 1)\n",
        "print(z)"
      ]
    },
    {
      "cell_type": "markdown",
      "metadata": {
        "id": "mI-QhFw_Y7qO"
      },
      "source": [
        "Q8. Lex x be an array <br/>\n",
        "[[ 1 2 3]<br/>\n",
        "[ 4 5 6].<br/><br/>\n",
        "and y be an array <br/>\n",
        "[[ 7 8 9]<br/>\n",
        "[10 11 12]].<br/>\n",
        "Concatenate x and y so that a new array looks like <br/>[[ 1  2  3]<br/>\n",
        " [ 4  5  6]<br/>\n",
        " [ 7  8  9]<br/>\n",
        " [10 11 12]]\n"
      ]
    },
    {
      "cell_type": "code",
      "execution_count": 25,
      "metadata": {
        "id": "D0l5XeD7Y7qO",
        "outputId": "2b90e0e1-7be8-4032-ed58-b0c6bf4af334",
        "colab": {
          "base_uri": "https://localhost:8080/"
        }
      },
      "outputs": [
        {
          "output_type": "stream",
          "name": "stdout",
          "text": [
            "[[ 1  2  3]\n",
            " [ 4  5  6]\n",
            " [ 7  8  9]\n",
            " [10 11 12]]\n"
          ]
        }
      ],
      "source": [
        "x = np.array([[1, 2, 3], [4, 5, 6]])\n",
        "y = np.array([[7, 8, 9], [10, 11, 12]])\n",
        "z = np.concatenate((x,y), axis = 0)\n",
        "print(z)"
      ]
    },
    {
      "cell_type": "markdown",
      "metadata": {
        "id": "xI76vhPAY7qO"
      },
      "source": [
        "Q8. Let x be an array [1 2 3] and y be [4 5 6]. Convert it to [[1, 4], [2, 5], [3, 6]]."
      ]
    },
    {
      "cell_type": "code",
      "execution_count": 34,
      "metadata": {
        "id": "R38eqc1xY7qO",
        "outputId": "caddfc3e-64ce-42ce-e836-8e71d296481e",
        "colab": {
          "base_uri": "https://localhost:8080/"
        }
      },
      "outputs": [
        {
          "output_type": "stream",
          "name": "stdout",
          "text": [
            "[[1 4]\n",
            " [2 5]\n",
            " [3 6]]\n"
          ]
        }
      ],
      "source": [
        "x = np.array([1, 2, 3])\n",
        "y = np.array([4, 5, 6])\n",
        "z = np.column_stack((x,y))\n",
        "t = np.squeeze(np.dstack((x, y)))\n",
        "assert np.allclose(z, t)\n",
        "print(z)"
      ]
    },
    {
      "cell_type": "markdown",
      "metadata": {
        "id": "unkrfTLKY7qO"
      },
      "source": [
        "Q9. Let x be an array [[1],[2],[3]] and y be [[4], [5], [6]]. Convert x to [[[1, 4]], [[2, 5]], [[3, 6]]]."
      ]
    },
    {
      "cell_type": "code",
      "execution_count": 36,
      "metadata": {
        "id": "R7zAeS5ZY7qP",
        "outputId": "a4c2abc6-e323-4b43-e992-186592bbdedb",
        "colab": {
          "base_uri": "https://localhost:8080/"
        }
      },
      "outputs": [
        {
          "output_type": "stream",
          "name": "stdout",
          "text": [
            "[[[1 4]]\n",
            "\n",
            " [[2 5]]\n",
            "\n",
            " [[3 6]]]\n"
          ]
        }
      ],
      "source": [
        "x = np.array([[1],[2],[3]])\n",
        "y = np.array([[4],[5],[6]])\n",
        "z = np.dstack((x,y))\n",
        "print(z)"
      ]
    },
    {
      "cell_type": "markdown",
      "metadata": {
        "id": "25J0T7whY7qP"
      },
      "source": [
        "Q10. Let x be an array [1, 2, 3, ..., 9]. Split x into 3 arrays, each of which has 4, 2, and 3 elements in the original order."
      ]
    },
    {
      "cell_type": "code",
      "execution_count": 39,
      "metadata": {
        "id": "5k4Ca4SnY7qP",
        "outputId": "3e173c3e-b09d-4aa9-8cf0-571d8deff9f0",
        "colab": {
          "base_uri": "https://localhost:8080/"
        }
      },
      "outputs": [
        {
          "output_type": "execute_result",
          "data": {
            "text/plain": [
              "[array([1, 2, 3, 4]), array([5, 6]), array([7, 8, 9])]"
            ]
          },
          "metadata": {},
          "execution_count": 39
        }
      ],
      "source": [
        "x = np.array([1,2,3,4,5,6,7,8,9])\n",
        "np.split(x, [4,6])"
      ]
    },
    {
      "cell_type": "markdown",
      "metadata": {
        "id": "0l78o1BbY7qP"
      },
      "source": [
        "Q11. Let x be an array<br/>\n",
        "[[[  0.,   1.,   2.,   3.],<br/>\n",
        "  [  4.,   5.,   6.,   7.]],<br/>\n",
        "\n",
        " [[  8.,   9.,  10.,  11.],<br/>\n",
        "  [ 12.,  13.,  14.,  15.]]].<br/>\n",
        "Split it into two such that the first array looks like<br/>\n",
        "[[[  0.,   1.,   2.],<br/>\n",
        "  [  4.,   5.,   6.]],<br/>\n",
        "\n",
        " [[  8.,   9.,  10.],<br/>\n",
        "  [ 12.,  13.,  14.]]].<br/>\n",
        "  \n",
        "and the second one look like:<br/>\n",
        "  \n",
        "[[[  3.],<br/>\n",
        "  [  7.]],<br/>\n",
        "\n",
        " [[  11.],<br/>\n",
        "  [ 15.]]].<br/>  "
      ]
    },
    {
      "cell_type": "code",
      "execution_count": 42,
      "metadata": {
        "id": "ruMcEMUwY7qP",
        "outputId": "0dc7c2cc-f6fb-4d46-b45e-b6a05501f556",
        "colab": {
          "base_uri": "https://localhost:8080/"
        }
      },
      "outputs": [
        {
          "output_type": "stream",
          "name": "stdout",
          "text": [
            "[array([[[ 0.,  1.,  2.],\n",
            "        [ 4.,  5.,  6.]],\n",
            "\n",
            "       [[ 8.,  9., 10.],\n",
            "        [12., 13., 14.]]]), array([[[ 3.],\n",
            "        [ 7.]],\n",
            "\n",
            "       [[11.],\n",
            "        [15.]]]), array([], shape=(2, 2, 0), dtype=float64)]\n"
          ]
        }
      ],
      "source": [
        "x = np.array([[[0., 1., 2., 3.], [4., 5., 6., 7.]], [[8., 9., 10., 11.], [12., 13., 14., 15.]]])\n",
        "print(np.dsplit(x, np.array([3,6])))"
      ]
    },
    {
      "cell_type": "markdown",
      "metadata": {
        "id": "rSnE62dZY7qP"
      },
      "source": [
        "Q12. Let x be an array <br />\n",
        "[[  0.,   1.,   2.,   3.],<br>\n",
        " [  4.,   5.,   6.,   7.],<br>\n",
        " [  8.,   9.,  10.,  11.],<br>\n",
        " [ 12.,  13.,  14.,  15.]].<br>\n",
        "Split it into two arrays along the second axis."
      ]
    },
    {
      "cell_type": "code",
      "execution_count": 43,
      "metadata": {
        "id": "uW9wGR-MY7qP",
        "outputId": "c935f48d-a23f-45ac-dd71-b7b1af3e164b",
        "colab": {
          "base_uri": "https://localhost:8080/"
        }
      },
      "outputs": [
        {
          "output_type": "execute_result",
          "data": {
            "text/plain": [
              "[array([[ 0.,  1.],\n",
              "        [ 4.,  5.],\n",
              "        [ 8.,  9.],\n",
              "        [12., 13.]]),\n",
              " array([[ 2.,  3.],\n",
              "        [ 6.,  7.],\n",
              "        [10., 11.],\n",
              "        [14., 15.]])]"
            ]
          },
          "metadata": {},
          "execution_count": 43
        }
      ],
      "source": [
        "x = np.array([[ 0., 1., 2., 3.], [ 4., 5., 6., 7.], [ 8., 9., 10., 11.], [ 12., 13., 14., 15.]])\n",
        "np.hsplit(x, 2)"
      ]
    },
    {
      "cell_type": "markdown",
      "metadata": {
        "id": "SLjdXjSTY7qP"
      },
      "source": [
        "Q13. Let x be an array <br />\n",
        "[[  0.,   1.,   2.,   3.],<br>\n",
        " [  4.,   5.,   6.,   7.],<br>\n",
        " [  8.,   9.,  10.,  11.],<br>\n",
        " [ 12.,  13.,  14.,  15.]].<br>\n",
        "Split it into two arrays along the first axis."
      ]
    },
    {
      "cell_type": "code",
      "execution_count": 44,
      "metadata": {
        "id": "JbCO4xcBY7qP",
        "outputId": "e7cb0102-7ea0-42b8-b7ac-8c6e6bfc5032",
        "colab": {
          "base_uri": "https://localhost:8080/"
        }
      },
      "outputs": [
        {
          "output_type": "execute_result",
          "data": {
            "text/plain": [
              "[array([[0., 1., 2., 3.],\n",
              "        [4., 5., 6., 7.]]),\n",
              " array([[ 8.,  9., 10., 11.],\n",
              "        [12., 13., 14., 15.]])]"
            ]
          },
          "metadata": {},
          "execution_count": 44
        }
      ],
      "source": [
        "x = np.array([[ 0., 1., 2., 3.], [ 4., 5., 6., 7.], [ 8., 9., 10., 11.], [ 12., 13., 14., 15.]])\n",
        "np.vsplit(x, 2)"
      ]
    },
    {
      "cell_type": "markdown",
      "metadata": {
        "id": "IeW8T55EY7qP"
      },
      "source": [
        "Q14. Let x be an array [0, 1, 2]. Convert it to <br/>\n",
        "[[0, 1, 2, 0, 1, 2],<br/>\n",
        " [0, 1, 2, 0, 1, 2]]."
      ]
    },
    {
      "cell_type": "code",
      "execution_count": 45,
      "metadata": {
        "id": "v5RqojrFY7qQ",
        "outputId": "292a793b-d2ed-4d55-e551-34bfe25d3c60",
        "colab": {
          "base_uri": "https://localhost:8080/"
        }
      },
      "outputs": [
        {
          "output_type": "execute_result",
          "data": {
            "text/plain": [
              "array([[0, 1, 2, 0, 1, 2],\n",
              "       [0, 1, 2, 0, 1, 2]])"
            ]
          },
          "metadata": {},
          "execution_count": 45
        }
      ],
      "source": [
        "x = np.array([0,1,2])\n",
        "np.tile(x, (2,2))"
      ]
    },
    {
      "cell_type": "markdown",
      "metadata": {
        "id": "s5pr0fANY7qQ"
      },
      "source": [
        "Q15. Let x be an array [0, 1, 2]. Convert it to <br/>\n",
        "[0, 0, 1, 1, 2, 2]."
      ]
    },
    {
      "cell_type": "code",
      "execution_count": 47,
      "metadata": {
        "id": "9Qr4Ab7bY7qQ",
        "outputId": "49cddf8b-0ee0-44d7-d893-c53e71ae8a23",
        "colab": {
          "base_uri": "https://localhost:8080/"
        }
      },
      "outputs": [
        {
          "output_type": "stream",
          "name": "stdout",
          "text": [
            "[0 0 1 1 2 2]\n"
          ]
        }
      ],
      "source": [
        "x = np.array([0,1,2])\n",
        "print(np.repeat(x, 2))"
      ]
    },
    {
      "cell_type": "markdown",
      "metadata": {
        "id": "SNOhjE66Y7qQ"
      },
      "source": [
        "Q16. Let x be an array [0, 0, 0, 1, 2, 3, 0, 2, 1, 0].<br/>\n",
        "remove the leading the trailing zeros."
      ]
    },
    {
      "cell_type": "code",
      "execution_count": 48,
      "metadata": {
        "id": "w8sfNhYFY7qQ",
        "outputId": "d987cd6b-12aa-41b2-c8e1-05dcc43769d4",
        "colab": {
          "base_uri": "https://localhost:8080/"
        }
      },
      "outputs": [
        {
          "output_type": "stream",
          "name": "stdout",
          "text": [
            "[1 2 3 0 2 1]\n"
          ]
        }
      ],
      "source": [
        "x = np.array((0, 0, 0, 1, 2, 3, 0, 2, 1, 0))\n",
        "y = np.trim_zeros(x)\n",
        "print(y)"
      ]
    },
    {
      "cell_type": "markdown",
      "metadata": {
        "id": "5NQN5glyY7qU"
      },
      "source": [
        "Q17. Let x be an array [2, 2, 1, 5, 4, 5, 1, 2, 3]. Get two arrays of unique elements and their counts.\n"
      ]
    },
    {
      "cell_type": "code",
      "execution_count": 51,
      "metadata": {
        "id": "acURkmpaY7qU",
        "outputId": "3f0a5496-0aa1-4c5d-fb7f-0ce8779af836",
        "colab": {
          "base_uri": "https://localhost:8080/"
        }
      },
      "outputs": [
        {
          "output_type": "stream",
          "name": "stdout",
          "text": [
            "(array([1, 2, 3, 4, 5]), array([2, 3, 1, 1, 2]))\n"
          ]
        }
      ],
      "source": [
        "x = np.array([2, 2, 1, 5, 4, 5, 1, 2, 3])\n",
        "y = np.unique(x, return_counts = True)\n",
        "print(y)"
      ]
    },
    {
      "cell_type": "markdown",
      "metadata": {
        "id": "X6YH-S5hY7qU"
      },
      "source": [
        "Q18. Lex x be an array <br/>\n",
        "[[ 1 2]<br/>\n",
        " [ 3 4].<br/>\n",
        "Flip x along the second axis."
      ]
    },
    {
      "cell_type": "code",
      "execution_count": 53,
      "metadata": {
        "id": "1FIbVe2-Y7qU",
        "outputId": "ed7bcb29-0b19-470b-b2b1-4ef6729d7d83",
        "colab": {
          "base_uri": "https://localhost:8080/"
        }
      },
      "outputs": [
        {
          "output_type": "stream",
          "name": "stdout",
          "text": [
            "[[2 1]\n",
            " [4 3]]\n"
          ]
        }
      ],
      "source": [
        "x = np.array([[1, 2], [3, 4]])\n",
        "y = np.fliplr(x)\n",
        "print(y)"
      ]
    },
    {
      "cell_type": "markdown",
      "metadata": {
        "id": "RTHrG6kLY7qU"
      },
      "source": [
        "Q19. Lex x be an array <br/>\n",
        "[[ 1 2]<br/>\n",
        " [ 3 4].<br/>\n",
        "Flip x along the first axis."
      ]
    },
    {
      "cell_type": "code",
      "execution_count": 54,
      "metadata": {
        "id": "qB4rP1nKY7qU",
        "outputId": "6ae2da7c-d6cc-4d02-ec40-106496c846de",
        "colab": {
          "base_uri": "https://localhost:8080/"
        }
      },
      "outputs": [
        {
          "output_type": "stream",
          "name": "stdout",
          "text": [
            "[[3 4]\n",
            " [1 2]]\n"
          ]
        }
      ],
      "source": [
        "x = np.array([[1, 2], [3, 4]])\n",
        "y = np.flipud(x)\n",
        "print(y)"
      ]
    },
    {
      "cell_type": "markdown",
      "metadata": {
        "id": "Wq0Y8sC2Y7qV"
      },
      "source": [
        "Q20. Lex x be an array <br/>\n",
        "[[ 1 2]<br/>\n",
        " [ 3 4].<br/>\n",
        "Rotate x 90 degrees counter-clockwise."
      ]
    },
    {
      "cell_type": "code",
      "execution_count": 55,
      "metadata": {
        "id": "xrlyO3OIY7qV",
        "outputId": "f21a753a-c3e7-4105-e9cb-c1ab34141028",
        "colab": {
          "base_uri": "https://localhost:8080/"
        }
      },
      "outputs": [
        {
          "output_type": "stream",
          "name": "stdout",
          "text": [
            "[[2 4]\n",
            " [1 3]]\n"
          ]
        }
      ],
      "source": [
        "x = np.array([[1, 2], [3, 4]])\n",
        "y = np.rot90(x)\n",
        "print(y)"
      ]
    },
    {
      "cell_type": "markdown",
      "metadata": {
        "id": "XFC0WoI1Y7qV"
      },
      "source": [
        "Q21 Lex x be an array <br/>\n",
        "[[ 1 2 3 4]<br/>\n",
        " [ 5 6 7 8].<br/>\n",
        "Shift elements one step to right along the second axis."
      ]
    },
    {
      "cell_type": "code",
      "execution_count": 57,
      "metadata": {
        "id": "51540vVeY7qV",
        "outputId": "6ab1edf8-5e42-44f5-f63c-c461acfbdf52",
        "colab": {
          "base_uri": "https://localhost:8080/"
        }
      },
      "outputs": [
        {
          "output_type": "stream",
          "name": "stdout",
          "text": [
            "[[4 1 2 3]\n",
            " [8 5 6 7]]\n"
          ]
        }
      ],
      "source": [
        "x = np.arange(1, 9).reshape([2, 4])\n",
        "print(np.roll(x, 1, axis=1))"
      ]
    },
    {
      "cell_type": "code",
      "execution_count": null,
      "metadata": {
        "collapsed": true,
        "id": "QfoIBJhlY7qV"
      },
      "outputs": [],
      "source": []
    }
  ],
  "metadata": {
    "kernelspec": {
      "display_name": "Python 2",
      "language": "python",
      "name": "python2"
    },
    "language_info": {
      "codemirror_mode": {
        "name": "ipython",
        "version": 2
      },
      "file_extension": ".py",
      "mimetype": "text/x-python",
      "name": "python",
      "nbconvert_exporter": "python",
      "pygments_lexer": "ipython2",
      "version": "2.7.10"
    },
    "colab": {
      "provenance": []
    }
  },
  "nbformat": 4,
  "nbformat_minor": 0
}